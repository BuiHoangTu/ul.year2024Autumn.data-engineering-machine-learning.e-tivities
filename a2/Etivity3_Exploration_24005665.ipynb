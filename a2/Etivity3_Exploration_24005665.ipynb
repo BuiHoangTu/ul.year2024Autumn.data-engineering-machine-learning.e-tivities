{
 "cells": [
  {
   "cell_type": "markdown",
   "metadata": {},
   "source": [
    "# Commonality and differences between artificial neurons and biological neurons\n",
    "\n",
    "Artificial neurons are the building blocks of artificial neural networks (ANNs), which are used in machine learning and artificial intelligence. \n",
    "They are models inspired by biological neuron, both artificial and biological neurons receive input signals from other neurons, process them, and produce an output signal.\n",
    "In contrast, biological neurons are much more complex than artificial neurons both in terms of structure and function.\n",
    "\n",
    "The similarities between artificial and biological neurons are shown in many ways.\n",
    "First, both are connected to each other; through synapses in case of biological ones, which determine the strength of the connection.\n",
    "In artificial neurons, the connection is represented by weights, which are adjusted during the learning process.\n",
    "Once connected, both become a network, which can be used to solve complex problems.\n",
    "In both systems, neurons receive input signals, integrate them, and generate an output based on the strength of the input.\n",
    "For biological neurons, this process uses electrochemical reactions that depend on the input strength across synapses.\n",
    "Similarly, artificial neurons sum their inputs, multiply them by their respective weights, and apply an activation function to generate an output.\n",
    "Through learning, both systems can adjust the strength of their connections to improve their performance, biological neurons adjust synapse strength while artificial neurons adjust weights.\n",
    "\n",
    "\n",
    "Although sharing many similarities, there are also significant differences between artificial and biological neurons mainly due to the complexity of biological neurons.\n",
    "Our brain has about 86 billion neurons and more than a 100 trillion synapses. \n",
    "The number of neurons in artificial networks is much less than that (usually in the range of 10–1000).\n",
    "In addition, biological neurons are capable of communicating asynchronously, firing based on action potentials and signal frequencies, while artificial one work synchronously with input values passing through connected layers.\n",
    "In terms of topology, biological neurons show a \"small-world\" nature with highly connected hubs, while ANNs typically rely on fully connected layers. \n",
    "Biological neurons are fault-tolerant, capable of recovery, while ANNs lack such adaptability but use dropouts to mimic path redundancy during training. \n",
    "Biological neurons also have a refractory period (when their sodium channels are locked and they can't send signal), whereas ANNs can compute continuously.\n",
    "Finally, we haven't yet fully understood how biological neurons learn, or how redundant connections store and recall information.\n",
    "Brain's tissues grow and connect in a self-organizing manner, it can move or rewire itself to adapt to new tasks.\n",
    "On the other hand, artificial neurons networks are predefined, the primary method of adaptation involves adjusting the weights of connections between neurons.\n",
    "\n",
    "\n",
    "In conclusion, while artificial neurons serve as simplified models inspired by biological neurons, they illustrate both commonality and significant differences. \n",
    "Both systems share core functional principles such as receiving input, processing signals, and producing outputs based on connection strength.\n",
    "However, the complexity of biological neurons far surpasses that of artificial neurons, particularly in structure, adaptability, and the vast scale of connections within the brain.\n",
    "Biological neurons operate in dynamic, self-organizing networks capable of continuous adaptation, while artificial neurons follow predefined architectures with limited flexibility."
   ]
  },
  {
   "cell_type": "markdown",
   "metadata": {},
   "source": [
    "## Reference\n",
    "- https://medium.com/@alifyafebriana/from-biological-to-artificial-understanding-neurons-and-their-role-in-neural-networks-8eb8c80fddc4#:~:text=Artificial%20neural%20networks,%20or%20ANNs,%20are\n",
    "- https://towardsdatascience.com/the-differences-between-artificial-and-biological-neural-networks-a8b46db828b7\n",
    "- https://www.youtube.com/watch?v=0aDq6ax6kGQ&t=541s"
   ]
  }
 ],
 "metadata": {
  "language_info": {
   "name": "python"
  }
 },
 "nbformat": 4,
 "nbformat_minor": 2
}

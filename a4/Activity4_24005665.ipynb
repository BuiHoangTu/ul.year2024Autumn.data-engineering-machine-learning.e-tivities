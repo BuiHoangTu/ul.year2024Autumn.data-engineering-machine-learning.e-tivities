{
 "cells": [
  {
   "cell_type": "markdown",
   "metadata": {},
   "source": [
    "### Student Details\n",
    "\n",
    "Student name: Hoang Tu BUI\n",
    "\n",
    "Student ID: 24005665"
   ]
  },
  {
   "cell_type": "markdown",
   "metadata": {
    "deletable": false,
    "editable": false,
    "tags": []
   },
   "source": [
    "# Description\n",
    "\n",
    "In this task, we will use NSL-KDD dataset. We will use the NSL-KDD dataset to do multi-class classification. This dataset is quite large, and the training time can be quite long if you use the whole thing so that we will use just 20% of the dataset. If you completed the network security task in the previous activity (i.e., if you are in the BSc in CyberSecurity), you will have seen this already. For those that have not seen this dataset before, you will also be dealing with many more dimensions than you have done up to now, but you will see that the machine learning techniques we have employed up to now scale nicely to many dimensions.\n",
    "\n",
    "The aim of the NSL-KDD dataset is to enable training a machine learning algorithm to identify different types of cyber attacks based on network trafiic features. The different attacks can be: denial-of-service (dos), Remote to user (r2l), probing attack (probe), User-to-Root (U2R). I hope this means something to the CyberSecurity cohort. For the rest of us, don't worry, we can just see it as a generic classification task.\n",
    "\n",
    "The data is already split into training and testing. It also contains a mix of different types of features - categorical, binary, and numerical features. However, in this task, we are going to investigate only the numerical features. So, in the code just below, I have stripped out all of the non-numerical features, and provide you with the numpy arrays `train_X`, `train_Y`, `test_X`, and `test_Y`.\n",
    "\n",
    "Our aim will be to use the available data to train an algorithm to predict the type of attack that is occurring. We will then see if we can get similar performance by using fewer features. Undoubtedly, unless there is a feature that has no influence *at all* on the output, we will see *some* degradation in performance. However, as discussed in the material, there are significant gains to be made by using fewer features."
   ]
  },
  {
   "cell_type": "code",
   "execution_count": 1,
   "metadata": {
    "deletable": false,
    "editable": false,
    "tags": []
   },
   "outputs": [
    {
     "name": "stdout",
     "output_type": "stream",
     "text": [
      "(25192, 31)\n",
      "(22544, 31)\n"
     ]
    }
   ],
   "source": [
    "####################\n",
    "# CODE PROVIDED\n",
    "\n",
    "# This code is a little bit complicated, and I don't want you to get bogged down in reading from csv files.\n",
    "# This code reads from the CSV files, and creates the training and test sets for both binary and multi-class\n",
    "\n",
    "# Read the data\n",
    "import pandas as pd\n",
    "test_df = pd.read_csv('KDDTest_CE4317.csv', header=0)\n",
    "train_df = pd.read_csv('KDDTrain_CE4317.csv', header=0)\n",
    "\n",
    "# Differentiating between nominal, binary, and numeric features\n",
    "# Note, we only need to do this for the train data, as the train and test have the same feature names (of course)\n",
    "col_names = train_df.columns.values    \n",
    "\n",
    "nominal_idx = [1, 2, 3]\n",
    "binary_idx = [6, 11, 13, 14, 19, 20]\n",
    "numeric_idx = list(set(range(40)).difference(nominal_idx).difference(binary_idx))\n",
    "\n",
    "numeric_cols = col_names[numeric_idx].tolist()   # The columns that have numerical features\n",
    "\n",
    "train_Y = train_df['attack_category']\n",
    "test_Y = test_df['attack_category']\n",
    "\n",
    "# In this case, we are only going to use the numeric columns for our predictions\n",
    "train_X = train_df[numeric_cols]   \n",
    "test_X = test_df[numeric_cols]\n",
    "\n",
    "print(train_X.shape)\n",
    "print(test_X.shape)"
   ]
  },
  {
   "cell_type": "markdown",
   "metadata": {
    "deletable": false,
    "editable": false,
    "tags": []
   },
   "source": [
    "Let's have a quick look at what some of the samples look like"
   ]
  },
  {
   "cell_type": "code",
   "execution_count": 2,
   "metadata": {
    "deletable": false,
    "editable": false,
    "tags": []
   },
   "outputs": [
    {
     "data": {
      "text/html": [
       "<div>\n",
       "<style scoped>\n",
       "    .dataframe tbody tr th:only-of-type {\n",
       "        vertical-align: middle;\n",
       "    }\n",
       "\n",
       "    .dataframe tbody tr th {\n",
       "        vertical-align: top;\n",
       "    }\n",
       "\n",
       "    .dataframe thead th {\n",
       "        text-align: right;\n",
       "    }\n",
       "</style>\n",
       "<table border=\"1\" class=\"dataframe\">\n",
       "  <thead>\n",
       "    <tr style=\"text-align: right;\">\n",
       "      <th></th>\n",
       "      <th>duration</th>\n",
       "      <th>src_bytes</th>\n",
       "      <th>dst_bytes</th>\n",
       "      <th>wrong_fragment</th>\n",
       "      <th>urgent</th>\n",
       "      <th>hot</th>\n",
       "      <th>num_failed_logins</th>\n",
       "      <th>num_compromised</th>\n",
       "      <th>num_root</th>\n",
       "      <th>num_file_creations</th>\n",
       "      <th>...</th>\n",
       "      <th>dst_host_count</th>\n",
       "      <th>dst_host_srv_count</th>\n",
       "      <th>dst_host_same_srv_rate</th>\n",
       "      <th>dst_host_diff_srv_rate</th>\n",
       "      <th>dst_host_same_src_port_rate</th>\n",
       "      <th>dst_host_srv_diff_host_rate</th>\n",
       "      <th>dst_host_serror_rate</th>\n",
       "      <th>dst_host_srv_serror_rate</th>\n",
       "      <th>dst_host_rerror_rate</th>\n",
       "      <th>dst_host_srv_rerror_rate</th>\n",
       "    </tr>\n",
       "  </thead>\n",
       "  <tbody>\n",
       "    <tr>\n",
       "      <th>0</th>\n",
       "      <td>0</td>\n",
       "      <td>491</td>\n",
       "      <td>0</td>\n",
       "      <td>0</td>\n",
       "      <td>0</td>\n",
       "      <td>0</td>\n",
       "      <td>0</td>\n",
       "      <td>0</td>\n",
       "      <td>0</td>\n",
       "      <td>0</td>\n",
       "      <td>...</td>\n",
       "      <td>150</td>\n",
       "      <td>25</td>\n",
       "      <td>0.17</td>\n",
       "      <td>0.03</td>\n",
       "      <td>0.17</td>\n",
       "      <td>0.00</td>\n",
       "      <td>0.00</td>\n",
       "      <td>0.00</td>\n",
       "      <td>0.05</td>\n",
       "      <td>0.00</td>\n",
       "    </tr>\n",
       "    <tr>\n",
       "      <th>1</th>\n",
       "      <td>0</td>\n",
       "      <td>146</td>\n",
       "      <td>0</td>\n",
       "      <td>0</td>\n",
       "      <td>0</td>\n",
       "      <td>0</td>\n",
       "      <td>0</td>\n",
       "      <td>0</td>\n",
       "      <td>0</td>\n",
       "      <td>0</td>\n",
       "      <td>...</td>\n",
       "      <td>255</td>\n",
       "      <td>1</td>\n",
       "      <td>0.00</td>\n",
       "      <td>0.60</td>\n",
       "      <td>0.88</td>\n",
       "      <td>0.00</td>\n",
       "      <td>0.00</td>\n",
       "      <td>0.00</td>\n",
       "      <td>0.00</td>\n",
       "      <td>0.00</td>\n",
       "    </tr>\n",
       "    <tr>\n",
       "      <th>2</th>\n",
       "      <td>0</td>\n",
       "      <td>0</td>\n",
       "      <td>0</td>\n",
       "      <td>0</td>\n",
       "      <td>0</td>\n",
       "      <td>0</td>\n",
       "      <td>0</td>\n",
       "      <td>0</td>\n",
       "      <td>0</td>\n",
       "      <td>0</td>\n",
       "      <td>...</td>\n",
       "      <td>255</td>\n",
       "      <td>26</td>\n",
       "      <td>0.10</td>\n",
       "      <td>0.05</td>\n",
       "      <td>0.00</td>\n",
       "      <td>0.00</td>\n",
       "      <td>1.00</td>\n",
       "      <td>1.00</td>\n",
       "      <td>0.00</td>\n",
       "      <td>0.00</td>\n",
       "    </tr>\n",
       "    <tr>\n",
       "      <th>3</th>\n",
       "      <td>0</td>\n",
       "      <td>232</td>\n",
       "      <td>8153</td>\n",
       "      <td>0</td>\n",
       "      <td>0</td>\n",
       "      <td>0</td>\n",
       "      <td>0</td>\n",
       "      <td>0</td>\n",
       "      <td>0</td>\n",
       "      <td>0</td>\n",
       "      <td>...</td>\n",
       "      <td>30</td>\n",
       "      <td>255</td>\n",
       "      <td>1.00</td>\n",
       "      <td>0.00</td>\n",
       "      <td>0.03</td>\n",
       "      <td>0.04</td>\n",
       "      <td>0.03</td>\n",
       "      <td>0.01</td>\n",
       "      <td>0.00</td>\n",
       "      <td>0.01</td>\n",
       "    </tr>\n",
       "    <tr>\n",
       "      <th>4</th>\n",
       "      <td>0</td>\n",
       "      <td>199</td>\n",
       "      <td>420</td>\n",
       "      <td>0</td>\n",
       "      <td>0</td>\n",
       "      <td>0</td>\n",
       "      <td>0</td>\n",
       "      <td>0</td>\n",
       "      <td>0</td>\n",
       "      <td>0</td>\n",
       "      <td>...</td>\n",
       "      <td>255</td>\n",
       "      <td>255</td>\n",
       "      <td>1.00</td>\n",
       "      <td>0.00</td>\n",
       "      <td>0.00</td>\n",
       "      <td>0.00</td>\n",
       "      <td>0.00</td>\n",
       "      <td>0.00</td>\n",
       "      <td>0.00</td>\n",
       "      <td>0.00</td>\n",
       "    </tr>\n",
       "    <tr>\n",
       "      <th>...</th>\n",
       "      <td>...</td>\n",
       "      <td>...</td>\n",
       "      <td>...</td>\n",
       "      <td>...</td>\n",
       "      <td>...</td>\n",
       "      <td>...</td>\n",
       "      <td>...</td>\n",
       "      <td>...</td>\n",
       "      <td>...</td>\n",
       "      <td>...</td>\n",
       "      <td>...</td>\n",
       "      <td>...</td>\n",
       "      <td>...</td>\n",
       "      <td>...</td>\n",
       "      <td>...</td>\n",
       "      <td>...</td>\n",
       "      <td>...</td>\n",
       "      <td>...</td>\n",
       "      <td>...</td>\n",
       "      <td>...</td>\n",
       "      <td>...</td>\n",
       "    </tr>\n",
       "    <tr>\n",
       "      <th>25187</th>\n",
       "      <td>0</td>\n",
       "      <td>0</td>\n",
       "      <td>0</td>\n",
       "      <td>0</td>\n",
       "      <td>0</td>\n",
       "      <td>0</td>\n",
       "      <td>0</td>\n",
       "      <td>0</td>\n",
       "      <td>0</td>\n",
       "      <td>0</td>\n",
       "      <td>...</td>\n",
       "      <td>255</td>\n",
       "      <td>7</td>\n",
       "      <td>0.03</td>\n",
       "      <td>0.06</td>\n",
       "      <td>0.00</td>\n",
       "      <td>0.00</td>\n",
       "      <td>0.00</td>\n",
       "      <td>0.00</td>\n",
       "      <td>1.00</td>\n",
       "      <td>1.00</td>\n",
       "    </tr>\n",
       "    <tr>\n",
       "      <th>25188</th>\n",
       "      <td>0</td>\n",
       "      <td>334</td>\n",
       "      <td>0</td>\n",
       "      <td>0</td>\n",
       "      <td>0</td>\n",
       "      <td>0</td>\n",
       "      <td>0</td>\n",
       "      <td>0</td>\n",
       "      <td>0</td>\n",
       "      <td>0</td>\n",
       "      <td>...</td>\n",
       "      <td>1</td>\n",
       "      <td>39</td>\n",
       "      <td>1.00</td>\n",
       "      <td>0.00</td>\n",
       "      <td>1.00</td>\n",
       "      <td>0.18</td>\n",
       "      <td>0.00</td>\n",
       "      <td>0.00</td>\n",
       "      <td>0.00</td>\n",
       "      <td>0.00</td>\n",
       "    </tr>\n",
       "    <tr>\n",
       "      <th>25189</th>\n",
       "      <td>0</td>\n",
       "      <td>0</td>\n",
       "      <td>0</td>\n",
       "      <td>0</td>\n",
       "      <td>0</td>\n",
       "      <td>0</td>\n",
       "      <td>0</td>\n",
       "      <td>0</td>\n",
       "      <td>0</td>\n",
       "      <td>0</td>\n",
       "      <td>...</td>\n",
       "      <td>255</td>\n",
       "      <td>13</td>\n",
       "      <td>0.05</td>\n",
       "      <td>0.07</td>\n",
       "      <td>0.00</td>\n",
       "      <td>0.00</td>\n",
       "      <td>0.00</td>\n",
       "      <td>0.00</td>\n",
       "      <td>1.00</td>\n",
       "      <td>1.00</td>\n",
       "    </tr>\n",
       "    <tr>\n",
       "      <th>25190</th>\n",
       "      <td>0</td>\n",
       "      <td>0</td>\n",
       "      <td>0</td>\n",
       "      <td>0</td>\n",
       "      <td>0</td>\n",
       "      <td>0</td>\n",
       "      <td>0</td>\n",
       "      <td>0</td>\n",
       "      <td>0</td>\n",
       "      <td>0</td>\n",
       "      <td>...</td>\n",
       "      <td>255</td>\n",
       "      <td>20</td>\n",
       "      <td>0.08</td>\n",
       "      <td>0.06</td>\n",
       "      <td>0.00</td>\n",
       "      <td>0.00</td>\n",
       "      <td>1.00</td>\n",
       "      <td>1.00</td>\n",
       "      <td>0.00</td>\n",
       "      <td>0.00</td>\n",
       "    </tr>\n",
       "    <tr>\n",
       "      <th>25191</th>\n",
       "      <td>0</td>\n",
       "      <td>0</td>\n",
       "      <td>0</td>\n",
       "      <td>0</td>\n",
       "      <td>0</td>\n",
       "      <td>0</td>\n",
       "      <td>0</td>\n",
       "      <td>0</td>\n",
       "      <td>0</td>\n",
       "      <td>0</td>\n",
       "      <td>...</td>\n",
       "      <td>255</td>\n",
       "      <td>49</td>\n",
       "      <td>0.19</td>\n",
       "      <td>0.03</td>\n",
       "      <td>0.01</td>\n",
       "      <td>0.00</td>\n",
       "      <td>1.00</td>\n",
       "      <td>1.00</td>\n",
       "      <td>0.00</td>\n",
       "      <td>0.00</td>\n",
       "    </tr>\n",
       "  </tbody>\n",
       "</table>\n",
       "<p>25192 rows × 31 columns</p>\n",
       "</div>"
      ],
      "text/plain": [
       "       duration  src_bytes  dst_bytes  wrong_fragment  urgent  hot  \\\n",
       "0             0        491          0               0       0    0   \n",
       "1             0        146          0               0       0    0   \n",
       "2             0          0          0               0       0    0   \n",
       "3             0        232       8153               0       0    0   \n",
       "4             0        199        420               0       0    0   \n",
       "...         ...        ...        ...             ...     ...  ...   \n",
       "25187         0          0          0               0       0    0   \n",
       "25188         0        334          0               0       0    0   \n",
       "25189         0          0          0               0       0    0   \n",
       "25190         0          0          0               0       0    0   \n",
       "25191         0          0          0               0       0    0   \n",
       "\n",
       "       num_failed_logins  num_compromised  num_root  num_file_creations  ...  \\\n",
       "0                      0                0         0                   0  ...   \n",
       "1                      0                0         0                   0  ...   \n",
       "2                      0                0         0                   0  ...   \n",
       "3                      0                0         0                   0  ...   \n",
       "4                      0                0         0                   0  ...   \n",
       "...                  ...              ...       ...                 ...  ...   \n",
       "25187                  0                0         0                   0  ...   \n",
       "25188                  0                0         0                   0  ...   \n",
       "25189                  0                0         0                   0  ...   \n",
       "25190                  0                0         0                   0  ...   \n",
       "25191                  0                0         0                   0  ...   \n",
       "\n",
       "       dst_host_count  dst_host_srv_count  dst_host_same_srv_rate  \\\n",
       "0                 150                  25                    0.17   \n",
       "1                 255                   1                    0.00   \n",
       "2                 255                  26                    0.10   \n",
       "3                  30                 255                    1.00   \n",
       "4                 255                 255                    1.00   \n",
       "...               ...                 ...                     ...   \n",
       "25187             255                   7                    0.03   \n",
       "25188               1                  39                    1.00   \n",
       "25189             255                  13                    0.05   \n",
       "25190             255                  20                    0.08   \n",
       "25191             255                  49                    0.19   \n",
       "\n",
       "       dst_host_diff_srv_rate  dst_host_same_src_port_rate  \\\n",
       "0                        0.03                         0.17   \n",
       "1                        0.60                         0.88   \n",
       "2                        0.05                         0.00   \n",
       "3                        0.00                         0.03   \n",
       "4                        0.00                         0.00   \n",
       "...                       ...                          ...   \n",
       "25187                    0.06                         0.00   \n",
       "25188                    0.00                         1.00   \n",
       "25189                    0.07                         0.00   \n",
       "25190                    0.06                         0.00   \n",
       "25191                    0.03                         0.01   \n",
       "\n",
       "       dst_host_srv_diff_host_rate  dst_host_serror_rate  \\\n",
       "0                             0.00                  0.00   \n",
       "1                             0.00                  0.00   \n",
       "2                             0.00                  1.00   \n",
       "3                             0.04                  0.03   \n",
       "4                             0.00                  0.00   \n",
       "...                            ...                   ...   \n",
       "25187                         0.00                  0.00   \n",
       "25188                         0.18                  0.00   \n",
       "25189                         0.00                  0.00   \n",
       "25190                         0.00                  1.00   \n",
       "25191                         0.00                  1.00   \n",
       "\n",
       "       dst_host_srv_serror_rate  dst_host_rerror_rate  \\\n",
       "0                          0.00                  0.05   \n",
       "1                          0.00                  0.00   \n",
       "2                          1.00                  0.00   \n",
       "3                          0.01                  0.00   \n",
       "4                          0.00                  0.00   \n",
       "...                         ...                   ...   \n",
       "25187                      0.00                  1.00   \n",
       "25188                      0.00                  0.00   \n",
       "25189                      0.00                  1.00   \n",
       "25190                      1.00                  0.00   \n",
       "25191                      1.00                  0.00   \n",
       "\n",
       "       dst_host_srv_rerror_rate  \n",
       "0                          0.00  \n",
       "1                          0.00  \n",
       "2                          0.00  \n",
       "3                          0.01  \n",
       "4                          0.00  \n",
       "...                         ...  \n",
       "25187                      1.00  \n",
       "25188                      0.00  \n",
       "25189                      1.00  \n",
       "25190                      0.00  \n",
       "25191                      0.00  \n",
       "\n",
       "[25192 rows x 31 columns]"
      ]
     },
     "execution_count": 2,
     "metadata": {},
     "output_type": "execute_result"
    }
   ],
   "source": [
    "# Let's look at the data\n",
    "train_X"
   ]
  },
  {
   "cell_type": "markdown",
   "metadata": {},
   "source": [
    "And let's look quickly at how many samples in each attack category we have"
   ]
  },
  {
   "cell_type": "code",
   "execution_count": 3,
   "metadata": {
    "deletable": false,
    "editable": false,
    "tags": []
   },
   "outputs": [
    {
     "data": {
      "text/plain": [
       "Text(0, 0.5, 'Attack category')"
      ]
     },
     "execution_count": 3,
     "metadata": {},
     "output_type": "execute_result"
    },
    {
     "data": {
      "image/png": "[encoded data removed]",
      "text/plain": [
       "<Figure size 1000x500 with 1 Axes>"
      ]
     },
     "metadata": {},
     "output_type": "display_data"
    }
   ],
   "source": [
    "import matplotlib.pyplot as plt\n",
    "\n",
    "train_attack_cats = train_df['attack_category'].value_counts()\n",
    "test_attack_cats = test_df['attack_category'].value_counts()\n",
    "train_attack_cats.plot(kind='barh', figsize=(10,5), fontsize=15)\n",
    "plt.xlabel(\"Number of samples\", fontsize=20)\n",
    "plt.ylabel(\"Attack category\", fontsize=20)"
   ]
  },
  {
   "cell_type": "markdown",
   "metadata": {},
   "source": [
    "samples in testset"
   ]
  },
  {
   "cell_type": "code",
   "execution_count": 4,
   "metadata": {},
   "outputs": [
    {
     "data": {
      "text/plain": [
       "Text(0, 0.5, 'Attack category')"
      ]
     },
     "execution_count": 4,
     "metadata": {},
     "output_type": "execute_result"
    },
    {
     "data": {
      "image/png": "[encoded data removed]",
      "text/plain": [
       "<Figure size 1000x500 with 1 Axes>"
      ]
     },
     "metadata": {},
     "output_type": "display_data"
    }
   ],
   "source": [
    "test_attack_cats.plot(kind=\"barh\", figsize=(10, 5), fontsize=15)\n",
    "plt.xlabel(\"Number of samples\", fontsize=20)\n",
    "plt.ylabel(\"Attack category\", fontsize=20)"
   ]
  },
  {
   "cell_type": "markdown",
   "metadata": {
    "deletable": false,
    "editable": false,
    "tags": []
   },
   "source": [
    "# Task 1- Feature Selection"
   ]
  },
  {
   "cell_type": "markdown",
   "metadata": {
    "deletable": false,
    "editable": false,
    "tags": []
   },
   "source": [
    "### Part 1: Support Vector Classification\n",
    "\n",
    "Here, we will use Support Vector Classification to predict the type of network attack that is occurriing, given a set of features. We will use a simple linear SVM Classification, and use the default parameters, as we're not investigating the properties of SVM, but rather the properties of data.\n",
    "\n",
    "#### Task:\n",
    "1. Apply the [`StandardScaler`](https://scikit-learn.org/stable/modules/generated/sklearn.preprocessing.StandardScaler.html) to the training and test data. Remember, train on the `*_train` data, but apply to both the `*_train` and the `*_test` data\n",
    "1. Train a linear Support Vector Classification, using [`sklearn`'s `svm.SVC` class](https://scikit-learn.org/stable/modules/generated/sklearn.svm.SVC.html). All parameters can be left at default except `kernel='linear'`\n",
    "1. Predict the category of the network attack\n",
    "1. Print the [confusion_matrix](https://scikit-learn.org/stable/modules/generated/sklearn.metrics.confusion_matrix.html) and the [accuracy score](https://scikit-learn.org/stable/modules/generated/sklearn.metrics.accuracy_score.html)\n",
    "1. Discuss the confusion matrix briefly\n",
    "\n",
    "You should see that the linear SVM Classification isn't too bad. You should get an accuracy around 0.73\n"
   ]
  },
  {
   "cell_type": "markdown",
   "metadata": {
    "deletable": false,
    "editable": false,
    "tags": []
   },
   "source": [
    "<span style=\"color:red\">Insert your code below</span>."
   ]
  },
  {
   "cell_type": "code",
   "execution_count": 5,
   "metadata": {},
   "outputs": [],
   "source": [
    "from sklearn.preprocessing import StandardScaler\n",
    "\n",
    "####################################\n",
    "# Your code here\n",
    "stdScaler = StandardScaler()\n",
    "\n",
    "std_train_X = stdScaler.fit_transform(train_X)\n",
    "std_test_X = stdScaler.transform(test_X)"
   ]
  },
  {
   "cell_type": "code",
   "execution_count": 6,
   "metadata": {},
   "outputs": [],
   "source": [
    "from sklearn.svm import SVC\n",
    "from sklearn.metrics import confusion_matrix, accuracy_score\n",
    "\n",
    "####################\n",
    "# YOUR CODE\n",
    "svmClassifier = SVC(kernel='linear')\n",
    "svmClassifier.fit(std_train_X, train_Y)\n",
    "\n",
    "pred = svmClassifier.predict(std_test_X)"
   ]
  },
  {
   "cell_type": "code",
   "execution_count": 7,
   "metadata": {},
   "outputs": [
    {
     "name": "stdout",
     "output_type": "stream",
     "text": [
      "Confusion Matrix:\n",
      "[[9085  472  150    4    0]\n",
      " [2100 5521   15    0    0]\n",
      " [ 431  128 1864    0    0]\n",
      " [2544    5   23    2    0]\n",
      " [ 156    0   38    1    5]]\n",
      "\n",
      "Accuracy: 0.7308818310858765\n"
     ]
    }
   ],
   "source": [
    "confusionMatrix = confusion_matrix(test_Y, pred)\n",
    "print(\"Confusion Matrix:\")\n",
    "print(confusionMatrix)\n",
    "print()\n",
    "\n",
    "accuracy = accuracy_score(test_Y, pred)\n",
    "print(f\"Accuracy: {accuracy}\")"
   ]
  },
  {
   "cell_type": "markdown",
   "metadata": {
    "deletable": false,
    "editable": false,
    "tags": []
   },
   "source": [
    "<span style=\"color:red\">Insert your text answers below</span>."
   ]
  },
  {
   "cell_type": "markdown",
   "metadata": {},
   "source": [
    "The confusion matrix shows that the model performs well on predicting classes \"benign\", \"dos\", \"probe\" with high rate of true positive but struggles with 2 other classes. \n",
    "Classes \"u2r\" and \"r2l\" have most of the predictions falsly classified as \"benign\".\n",
    "This is due to the fact that the train dataset is imbalanced, and the model is biased towards the majority class."
   ]
  },
  {
   "cell_type": "markdown",
   "metadata": {
    "deletable": false,
    "editable": false,
    "tags": []
   },
   "source": [
    "### Part 2: Feature Variance\n",
    "\n",
    "Feature variance is a rather simple way of predicting if a given feature will have influence on the outcome of a trained model. The principle is that, if a feature has low variance, it cannot have much influence on the model prediction. As an extreme, if we have a variance of 0 in a feature across all samples, i.e. we have the same value for this feature in all samples, then this feature cannot be used to distinguish samples and is useless as a predictor.\n",
    "\n",
    "However, the converse is not true. A high variance in a feature does not necessarily mean that it is a good predictor. You could imagine a feature that just contains noise with high amplitude. It might have high variance, but is meaningless. Or you can have a feature that has high variance but no influence on the outcome. For example, would hair length in cm have any influence on a baseball players salary? That said, variance can be a useful measure of the strength of a predictor.\n",
    "\n",
    "The variance of a set of features is given by:\n",
    "\n",
    "$$\n",
    "S_{i}^{2} = \\frac{\\sum_{j=1}^n\\left(\\textbf{X}_{i,j} - \\overline{\\textbf{X}}_i \\right)^2}{n - 1}\n",
    "$$\n",
    "\n",
    "where $\\textbf{X}_{i,j}$ is the $j$'th sample of the $i$'th feature, $\\overline{\\textbf{X}}_i$ is the mean of all the samples of the $i$'th feature, and $n$ is the total number of samples.\n",
    "\n",
    "Variance thresholding doesn't examine the relationship between the feature $\\textbf{X}$ and the output $\\textbf{y}$. This has the disadvantage that you can't test if the feature actually has an influence on the output. However, even though in this case we use it in a supervised learning context, it does mean that we can use variance thresholding for unsupervised learning.\n",
    "\n",
    "#### Notes:\n",
    "1. In Part 1, we used the `StandardScaler` to scale the features. In general, this is good practice, and in the next Task where we look at PCAs, really is even required. The `StandardScaler` will make it so every feature has a variance of 1 (unless the features started out with a variance of 0 to begin with) and a mean of 0. Therefore, features scaled with `StandardScaler` are useless for thresholding on variance, as there is no practical way to distinguish them.\n",
    "2. However, we should not do `VarianceThreshold`ing on just the raw data. Have a look at the values in the training dataset. Some columns will have typically small values. It is the nature of that data, and even though they may have a large influence on the type of attack, they will have a lower variance compared to some of the other columns.\n",
    "3. So we must scale, but not using the `StandardScaler`. Here it is more appropriate to use the [`MinMaxScaler`](https://scikit-learn.org/stable/modules/generated/sklearn.preprocessing.MinMaxScaler.html), which scales all the data to the range 0 to 1 by default (though you can set any range).\n",
    "4. Note that `MinMaxScaler` can also be applied to machine learning algorithms. Just in this case, we want to use the `StandardScaler`. There is, in fact, a [whole suite of other scalers provided by scikit-learn](https://scikit-learn.org/stable/auto_examples/preprocessing/plot_all_scaling.html). Each has it's own benefits. In fact, some would say we should use `MinMaxScaler` as the default scaler, and only use `StandardScaler` if we know the distribution of the data is normal.\n",
    "\n",
    "#### Task:\n",
    "1. Fit an instance of the `MinMaxScaler` with the original `X_train` data. You will get a set of data in the range 0 to 1.\n",
    "2. It is not very intuitive what threshold of variance we should use. So it's better to plot the variances of each feature, and then decide if some of the variances are small enough to discard\n",
    "3. Use `np.var` function to calculate the variances of the features (`axis-0`). Plot the variances, and pick a value that might remove 3 or 4 of the features.\n",
    "4. Fit the output of the `MinMaxScaler` using an object of [`sklearn.feature_selection`'s `VarianceThreshold` class](https://scikit-learn.org/stable/modules/generated/sklearn.feature_selection.VarianceThreshold.html) using this threshold\n",
    "5. `transform` the data that was scaled with the `StandardScaler`. This is an important step. Notice that we use the output of the `MinMaxScaler` to select the features, but the data we want to use is selected from the `StandardScaler`.\n",
    "6. Repeat the steps of Part 1: Train an SVC with the selected features and print the accuracy.\n",
    "7. How does the accuracy compare to the the SVC with no features removed (from Part 1)?"
   ]
  },
  {
   "cell_type": "markdown",
   "metadata": {
    "deletable": false,
    "editable": false,
    "tags": []
   },
   "source": [
    "<span style=\"color:red\">Insert your code below</span>."
   ]
  },
  {
   "cell_type": "code",
   "execution_count": 8,
   "metadata": {},
   "outputs": [
    {
     "data": {
      "image/png": "[encoded data removed]",
      "text/plain": [
       "<Figure size 1000x500 with 1 Axes>"
      ]
     },
     "metadata": {},
     "output_type": "display_data"
    }
   ],
   "source": [
    "from sklearn.feature_selection import VarianceThreshold\n",
    "from sklearn.preprocessing import MinMaxScaler\n",
    "import matplotlib.pyplot as plt\n",
    "import numpy as np\n",
    "\n",
    "####################################\n",
    "# Your code here\n",
    "mmScaler = MinMaxScaler()\n",
    "\n",
    "mm_train_X = mmScaler.fit_transform(train_X)\n",
    "\n",
    "variances = np.var(mm_train_X, axis=0)\n",
    "\n",
    "plt.figure(figsize=(10, 5))\n",
    "plt.bar(np.arange(len(variances)), variances)\n",
    "plt.xlabel(\"Feature Index\", fontsize=20)\n",
    "plt.ylabel(\"Variance\", fontsize=20)\n",
    "plt.show()"
   ]
  },
  {
   "cell_type": "code",
   "execution_count": 9,
   "metadata": {},
   "outputs": [
    {
     "name": "stdout",
     "output_type": "stream",
     "text": [
      "Variance threshold to remove 3 features: 0.00012892057590906038 - 0.00013886503616568338\n"
     ]
    }
   ],
   "source": [
    "# threshold to remove 3 features\n",
    "variances.sort()\n",
    "\n",
    "print(f\"Variance threshold to remove 3 features: {variances[2]} - {variances[3]}\")"
   ]
  },
  {
   "cell_type": "code",
   "execution_count": 10,
   "metadata": {},
   "outputs": [
    {
     "name": "stdout",
     "output_type": "stream",
     "text": [
      "(25192, 28)\n",
      "(22544, 28)\n"
     ]
    }
   ],
   "source": [
    "THRESHOLD = 0.00013\n",
    "\n",
    "selector = VarianceThreshold(threshold=THRESHOLD)\n",
    "selector.fit(mm_train_X)\n",
    "\n",
    "# select features from standard scaled data\n",
    "selected_train_X = selector.transform(std_train_X)\n",
    "selected_test_X = selector.transform(std_test_X)\n",
    "\n",
    "print(selected_train_X.shape)\n",
    "print(selected_test_X.shape)"
   ]
  },
  {
   "cell_type": "code",
   "execution_count": 11,
   "metadata": {},
   "outputs": [
    {
     "name": "stdout",
     "output_type": "stream",
     "text": [
      "Confusion Matrix:\n",
      "[[9090  472  149    0    0]\n",
      " [2100 5521   15    0    0]\n",
      " [ 440  120 1863    0    0]\n",
      " [2554    3   16    1    0]\n",
      " [ 159    0   41    0    0]]\n",
      "\n",
      "Accuracy: 0.7307931156848829\n"
     ]
    }
   ],
   "source": [
    "from sklearn.svm import SVC\n",
    "\n",
    "svmClassifier = SVC(kernel='linear')\n",
    "svmClassifier.fit(selected_train_X, train_Y)\n",
    "\n",
    "pred = svmClassifier.predict(selected_test_X)\n",
    "\n",
    "confusionMatrix = confusion_matrix(test_Y, pred)\n",
    "print(\"Confusion Matrix:\")\n",
    "print(confusionMatrix)\n",
    "print()\n",
    "\n",
    "accuracy = accuracy_score(test_Y, pred)\n",
    "print(f\"Accuracy: {accuracy}\")"
   ]
  },
  {
   "cell_type": "markdown",
   "metadata": {
    "deletable": false,
    "editable": false,
    "tags": []
   },
   "source": [
    "<span style=\"color:red\">Insert your text answers below</span>."
   ]
  },
  {
   "cell_type": "markdown",
   "metadata": {},
   "source": [
    "After removing 3 low-variance features, the performance of the model reduced an unnoticeable amount (less than 0.01%)"
   ]
  },
  {
   "cell_type": "markdown",
   "metadata": {
    "deletable": false,
    "editable": false,
    "tags": []
   },
   "source": [
    "### Part 3: Univariate Feature Selection - `f_classif`\n",
    "\n",
    "Univariate feature selection works by performing statistical tests on each of the features (i.e. on each column in our dataset). There are a [few options provided by `scikit-learn`](https://scikit-learn.org/stable/modules/feature_selection.html#univariate-feature-selection). We will use the [`SelectKBest` functionality](https://scikit-learn.org/stable/modules/generated/sklearn.feature_selection.SelectKBest.html), which allows us to pick \"the top\" `K` features per the metric we select. To pick the top features, we will use the [`f_classif` function](https://scikit-learn.org/stable/modules/generated/sklearn.feature_selection.f_classif.html), as we are doing a classification. `f_classif` uses the ANOVA F-value to determine features to select. More info on ANOVA is available [here](https://datascience.stackexchange.com/questions/74465/how-to-understand-anova-f-for-feature-selection-in-python-sklearn-selectkbest-w).\n",
    "\n",
    "The `SelectKBest` functionality coupled with `f_classif`, will use this score to pick the `K` top features.\n",
    "\n",
    "#### Task:\n",
    "1. Loop over the total count of features (i.e. for variable `k` from 1 to 31)\n",
    "2. Use the [`SelectKBest` class](https://scikit-learn.org/stable/modules/generated/sklearn.feature_selection.SelectKBest.html) with [`f_classif`](https://scikit-learn.org/stable/modules/generated/sklearn.feature_selection.f_classif.html) to pick the top `k` features from our dataset\n",
    "3. Train a new SVM classification with features transformed with the `SelectKBest` object you just created (note: both train and test data have to be transformed)\n",
    "4. Use the `accuracy_score` function to get the accuracy at each iteration\n",
    "5. Repeat steps 2 to 4 for each value of `k`.\n",
    "6. Then plot the accuracy versus number of features in a single plot\n",
    "7. Given this data, discuss the number of features you might use in a final solution? (Use markdown - no wrong answer here)\n",
    "8. How doe the \"best\" accuracy value compare with the SVM before removing any features? \n",
    "\n",
    "this will take a few minutes to run, go get a coffee!"
   ]
  },
  {
   "cell_type": "markdown",
   "metadata": {},
   "source": [
    "<span style=\"color:red\">Insert your code below</span>."
   ]
  },
  {
   "cell_type": "code",
   "execution_count": 12,
   "metadata": {},
   "outputs": [],
   "source": [
    "from sklearn.feature_selection import SelectKBest\n",
    "from sklearn.feature_selection import f_classif\n",
    "from sklearn.svm import SVR\n",
    "from sklearn.metrics import mean_squared_error\n",
    "\n",
    "####################################\n",
    "# Your code here\n",
    "accuracies = []\n",
    "\n",
    "for k in range(1, 31):\n",
    "    selector = SelectKBest(f_classif, k=k)\n",
    "    \n",
    "    selected_train_X = selector.fit_transform(std_train_X, train_Y)\n",
    "    selected_test_X = selector.transform(std_test_X)\n",
    "    \n",
    "    svmClassifier = SVC(kernel='linear')\n",
    "    svmClassifier.fit(selected_train_X, train_Y)\n",
    "    \n",
    "    pred = svmClassifier.predict(selected_test_X)\n",
    "    \n",
    "    accuracies.append(accuracy_score(test_Y, pred))"
   ]
  },
  {
   "cell_type": "code",
   "execution_count": 13,
   "metadata": {},
   "outputs": [
    {
     "data": {
      "image/png": "[encoded data removed]",
      "text/plain": [
       "<Figure size 1000x600 with 1 Axes>"
      ]
     },
     "metadata": {},
     "output_type": "display_data"
    }
   ],
   "source": [
    "import matplotlib.pyplot as plt\n",
    "\n",
    "####################################\n",
    "# Your code here\n",
    "plt.figure(figsize=(10, 6))\n",
    "plt.plot(range(1, 31), accuracies, marker=\"o\")\n",
    "plt.xlabel(\"Number of Features (k)\")\n",
    "plt.ylabel(\"Accuracy\")\n",
    "plt.title(\"Accuracy vs. Number of Features\")\n",
    "plt.show()"
   ]
  },
  {
   "cell_type": "markdown",
   "metadata": {
    "deletable": false,
    "editable": false,
    "tags": []
   },
   "source": [
    "<span style=\"color:red\">Insert your question answers below</span>."
   ]
  },
  {
   "cell_type": "markdown",
   "metadata": {},
   "source": [
    "### 7\n",
    "I will choose 18 features because the figure shows that the accuracy of model changes insignificantly after reaching this values. Thus, we can preserve calculation power with minor decrease in performance. "
   ]
  },
  {
   "cell_type": "code",
   "execution_count": 14,
   "metadata": {},
   "outputs": [
    {
     "name": "stdout",
     "output_type": "stream",
     "text": [
      "Best accuracy: 0.7305713271823988\n"
     ]
    }
   ],
   "source": [
    "print(f\"Best accuracy: {max(accuracies)}\")"
   ]
  },
  {
   "cell_type": "markdown",
   "metadata": {},
   "source": [
    "### 8\n",
    "The best accuracy here is about 0.03% less than with all features"
   ]
  },
  {
   "cell_type": "markdown",
   "metadata": {
    "deletable": false,
    "editable": false,
    "tags": []
   },
   "source": [
    "# Task 2: Dimensionality Reduction via PCA\n",
    "\n",
    "PCA is one of the most commonly used unsupervised transforms, and one of the most commmon means to manipulate data for machine learning. You touched on the PCA in E-tivity 2, where we investigated linear algebra. Here we will use it to reduce the numbers of features needed for a machine learning algorithm.\n",
    "\n",
    "In the last task, we removed features. The first part, we just used some statistics on the features themselves, in independence of the other features and of the output. Then, we looked at the correlation between features and the output. \n",
    "\n",
    "What PCA does is look at correlations *between features*. If we have high correlation between two or more features, PCA will find vectors in the feature space that best describe all features. It doesn't remove features, rather it creates a new feature space, and projects all samples to this feature space. The basis of the new feature space is a linear combination of the original features. Maybe a bit crudely, you can think of it as combining features.\n",
    "\n",
    "Let's look at an example. Here is the first few rows of the dataset."
   ]
  },
  {
   "cell_type": "code",
   "execution_count": 15,
   "metadata": {
    "deletable": false,
    "editable": false,
    "tags": []
   },
   "outputs": [
    {
     "data": {
      "text/html": [
       "<div>\n",
       "<style scoped>\n",
       "    .dataframe tbody tr th:only-of-type {\n",
       "        vertical-align: middle;\n",
       "    }\n",
       "\n",
       "    .dataframe tbody tr th {\n",
       "        vertical-align: top;\n",
       "    }\n",
       "\n",
       "    .dataframe thead th {\n",
       "        text-align: right;\n",
       "    }\n",
       "</style>\n",
       "<table border=\"1\" class=\"dataframe\">\n",
       "  <thead>\n",
       "    <tr style=\"text-align: right;\">\n",
       "      <th></th>\n",
       "      <th>duration</th>\n",
       "      <th>protocol_type</th>\n",
       "      <th>service</th>\n",
       "      <th>flag</th>\n",
       "      <th>src_bytes</th>\n",
       "      <th>dst_bytes</th>\n",
       "      <th>land</th>\n",
       "      <th>wrong_fragment</th>\n",
       "      <th>urgent</th>\n",
       "      <th>hot</th>\n",
       "      <th>...</th>\n",
       "      <th>dst_host_same_srv_rate</th>\n",
       "      <th>dst_host_diff_srv_rate</th>\n",
       "      <th>dst_host_same_src_port_rate</th>\n",
       "      <th>dst_host_srv_diff_host_rate</th>\n",
       "      <th>dst_host_serror_rate</th>\n",
       "      <th>dst_host_srv_serror_rate</th>\n",
       "      <th>dst_host_rerror_rate</th>\n",
       "      <th>dst_host_srv_rerror_rate</th>\n",
       "      <th>attack_category</th>\n",
       "      <th>attack_binary</th>\n",
       "    </tr>\n",
       "  </thead>\n",
       "  <tbody>\n",
       "    <tr>\n",
       "      <th>0</th>\n",
       "      <td>0</td>\n",
       "      <td>tcp</td>\n",
       "      <td>ftp_data</td>\n",
       "      <td>SF</td>\n",
       "      <td>491</td>\n",
       "      <td>0</td>\n",
       "      <td>0</td>\n",
       "      <td>0</td>\n",
       "      <td>0</td>\n",
       "      <td>0</td>\n",
       "      <td>...</td>\n",
       "      <td>0.17</td>\n",
       "      <td>0.03</td>\n",
       "      <td>0.17</td>\n",
       "      <td>0.00</td>\n",
       "      <td>0.00</td>\n",
       "      <td>0.00</td>\n",
       "      <td>0.05</td>\n",
       "      <td>0.00</td>\n",
       "      <td>benign</td>\n",
       "      <td>0</td>\n",
       "    </tr>\n",
       "    <tr>\n",
       "      <th>1</th>\n",
       "      <td>0</td>\n",
       "      <td>udp</td>\n",
       "      <td>other</td>\n",
       "      <td>SF</td>\n",
       "      <td>146</td>\n",
       "      <td>0</td>\n",
       "      <td>0</td>\n",
       "      <td>0</td>\n",
       "      <td>0</td>\n",
       "      <td>0</td>\n",
       "      <td>...</td>\n",
       "      <td>0.00</td>\n",
       "      <td>0.60</td>\n",
       "      <td>0.88</td>\n",
       "      <td>0.00</td>\n",
       "      <td>0.00</td>\n",
       "      <td>0.00</td>\n",
       "      <td>0.00</td>\n",
       "      <td>0.00</td>\n",
       "      <td>benign</td>\n",
       "      <td>0</td>\n",
       "    </tr>\n",
       "    <tr>\n",
       "      <th>2</th>\n",
       "      <td>0</td>\n",
       "      <td>tcp</td>\n",
       "      <td>private</td>\n",
       "      <td>S0</td>\n",
       "      <td>0</td>\n",
       "      <td>0</td>\n",
       "      <td>0</td>\n",
       "      <td>0</td>\n",
       "      <td>0</td>\n",
       "      <td>0</td>\n",
       "      <td>...</td>\n",
       "      <td>0.10</td>\n",
       "      <td>0.05</td>\n",
       "      <td>0.00</td>\n",
       "      <td>0.00</td>\n",
       "      <td>1.00</td>\n",
       "      <td>1.00</td>\n",
       "      <td>0.00</td>\n",
       "      <td>0.00</td>\n",
       "      <td>dos</td>\n",
       "      <td>1</td>\n",
       "    </tr>\n",
       "    <tr>\n",
       "      <th>3</th>\n",
       "      <td>0</td>\n",
       "      <td>tcp</td>\n",
       "      <td>http</td>\n",
       "      <td>SF</td>\n",
       "      <td>232</td>\n",
       "      <td>8153</td>\n",
       "      <td>0</td>\n",
       "      <td>0</td>\n",
       "      <td>0</td>\n",
       "      <td>0</td>\n",
       "      <td>...</td>\n",
       "      <td>1.00</td>\n",
       "      <td>0.00</td>\n",
       "      <td>0.03</td>\n",
       "      <td>0.04</td>\n",
       "      <td>0.03</td>\n",
       "      <td>0.01</td>\n",
       "      <td>0.00</td>\n",
       "      <td>0.01</td>\n",
       "      <td>benign</td>\n",
       "      <td>0</td>\n",
       "    </tr>\n",
       "    <tr>\n",
       "      <th>4</th>\n",
       "      <td>0</td>\n",
       "      <td>tcp</td>\n",
       "      <td>http</td>\n",
       "      <td>SF</td>\n",
       "      <td>199</td>\n",
       "      <td>420</td>\n",
       "      <td>0</td>\n",
       "      <td>0</td>\n",
       "      <td>0</td>\n",
       "      <td>0</td>\n",
       "      <td>...</td>\n",
       "      <td>1.00</td>\n",
       "      <td>0.00</td>\n",
       "      <td>0.00</td>\n",
       "      <td>0.00</td>\n",
       "      <td>0.00</td>\n",
       "      <td>0.00</td>\n",
       "      <td>0.00</td>\n",
       "      <td>0.00</td>\n",
       "      <td>benign</td>\n",
       "      <td>0</td>\n",
       "    </tr>\n",
       "    <tr>\n",
       "      <th>5</th>\n",
       "      <td>0</td>\n",
       "      <td>tcp</td>\n",
       "      <td>private</td>\n",
       "      <td>REJ</td>\n",
       "      <td>0</td>\n",
       "      <td>0</td>\n",
       "      <td>0</td>\n",
       "      <td>0</td>\n",
       "      <td>0</td>\n",
       "      <td>0</td>\n",
       "      <td>...</td>\n",
       "      <td>0.07</td>\n",
       "      <td>0.07</td>\n",
       "      <td>0.00</td>\n",
       "      <td>0.00</td>\n",
       "      <td>0.00</td>\n",
       "      <td>0.00</td>\n",
       "      <td>1.00</td>\n",
       "      <td>1.00</td>\n",
       "      <td>dos</td>\n",
       "      <td>1</td>\n",
       "    </tr>\n",
       "    <tr>\n",
       "      <th>6</th>\n",
       "      <td>0</td>\n",
       "      <td>tcp</td>\n",
       "      <td>private</td>\n",
       "      <td>S0</td>\n",
       "      <td>0</td>\n",
       "      <td>0</td>\n",
       "      <td>0</td>\n",
       "      <td>0</td>\n",
       "      <td>0</td>\n",
       "      <td>0</td>\n",
       "      <td>...</td>\n",
       "      <td>0.04</td>\n",
       "      <td>0.05</td>\n",
       "      <td>0.00</td>\n",
       "      <td>0.00</td>\n",
       "      <td>1.00</td>\n",
       "      <td>1.00</td>\n",
       "      <td>0.00</td>\n",
       "      <td>0.00</td>\n",
       "      <td>dos</td>\n",
       "      <td>1</td>\n",
       "    </tr>\n",
       "    <tr>\n",
       "      <th>7</th>\n",
       "      <td>0</td>\n",
       "      <td>tcp</td>\n",
       "      <td>private</td>\n",
       "      <td>S0</td>\n",
       "      <td>0</td>\n",
       "      <td>0</td>\n",
       "      <td>0</td>\n",
       "      <td>0</td>\n",
       "      <td>0</td>\n",
       "      <td>0</td>\n",
       "      <td>...</td>\n",
       "      <td>0.06</td>\n",
       "      <td>0.07</td>\n",
       "      <td>0.00</td>\n",
       "      <td>0.00</td>\n",
       "      <td>1.00</td>\n",
       "      <td>1.00</td>\n",
       "      <td>0.00</td>\n",
       "      <td>0.00</td>\n",
       "      <td>dos</td>\n",
       "      <td>1</td>\n",
       "    </tr>\n",
       "  </tbody>\n",
       "</table>\n",
       "<p>8 rows × 42 columns</p>\n",
       "</div>"
      ],
      "text/plain": [
       "   duration protocol_type   service flag  src_bytes  dst_bytes  land  \\\n",
       "0         0           tcp  ftp_data   SF        491          0     0   \n",
       "1         0           udp     other   SF        146          0     0   \n",
       "2         0           tcp   private   S0          0          0     0   \n",
       "3         0           tcp      http   SF        232       8153     0   \n",
       "4         0           tcp      http   SF        199        420     0   \n",
       "5         0           tcp   private  REJ          0          0     0   \n",
       "6         0           tcp   private   S0          0          0     0   \n",
       "7         0           tcp   private   S0          0          0     0   \n",
       "\n",
       "   wrong_fragment  urgent  hot  ...  dst_host_same_srv_rate  \\\n",
       "0               0       0    0  ...                    0.17   \n",
       "1               0       0    0  ...                    0.00   \n",
       "2               0       0    0  ...                    0.10   \n",
       "3               0       0    0  ...                    1.00   \n",
       "4               0       0    0  ...                    1.00   \n",
       "5               0       0    0  ...                    0.07   \n",
       "6               0       0    0  ...                    0.04   \n",
       "7               0       0    0  ...                    0.06   \n",
       "\n",
       "   dst_host_diff_srv_rate  dst_host_same_src_port_rate  \\\n",
       "0                    0.03                         0.17   \n",
       "1                    0.60                         0.88   \n",
       "2                    0.05                         0.00   \n",
       "3                    0.00                         0.03   \n",
       "4                    0.00                         0.00   \n",
       "5                    0.07                         0.00   \n",
       "6                    0.05                         0.00   \n",
       "7                    0.07                         0.00   \n",
       "\n",
       "   dst_host_srv_diff_host_rate  dst_host_serror_rate  \\\n",
       "0                         0.00                  0.00   \n",
       "1                         0.00                  0.00   \n",
       "2                         0.00                  1.00   \n",
       "3                         0.04                  0.03   \n",
       "4                         0.00                  0.00   \n",
       "5                         0.00                  0.00   \n",
       "6                         0.00                  1.00   \n",
       "7                         0.00                  1.00   \n",
       "\n",
       "   dst_host_srv_serror_rate  dst_host_rerror_rate  dst_host_srv_rerror_rate  \\\n",
       "0                      0.00                  0.05                      0.00   \n",
       "1                      0.00                  0.00                      0.00   \n",
       "2                      1.00                  0.00                      0.00   \n",
       "3                      0.01                  0.00                      0.01   \n",
       "4                      0.00                  0.00                      0.00   \n",
       "5                      0.00                  1.00                      1.00   \n",
       "6                      1.00                  0.00                      0.00   \n",
       "7                      1.00                  0.00                      0.00   \n",
       "\n",
       "   attack_category  attack_binary  \n",
       "0           benign              0  \n",
       "1           benign              0  \n",
       "2              dos              1  \n",
       "3           benign              0  \n",
       "4           benign              0  \n",
       "5              dos              1  \n",
       "6              dos              1  \n",
       "7              dos              1  \n",
       "\n",
       "[8 rows x 42 columns]"
      ]
     },
     "execution_count": 15,
     "metadata": {},
     "output_type": "execute_result"
    }
   ],
   "source": [
    "train_df.head(8)"
   ]
  },
  {
   "cell_type": "markdown",
   "metadata": {
    "deletable": false,
    "editable": false,
    "tags": []
   },
   "source": [
    "Ok, so in a small handfull of features, we can spot that (perhaps) `num_root` and `num_compromised` are correlated? Let's plot a few of them that might be correlated."
   ]
  },
  {
   "cell_type": "code",
   "execution_count": 16,
   "metadata": {
    "deletable": false,
    "editable": false,
    "tags": []
   },
   "outputs": [
    {
     "data": {
      "image/png": "[encoded data removed]",
      "text/plain": [
       "<Figure size 2000x500 with 3 Axes>"
      ]
     },
     "metadata": {},
     "output_type": "display_data"
    }
   ],
   "source": [
    "import matplotlib.pyplot as plt\n",
    "\n",
    "fig, ax = plt.subplots(1, 3, figsize=(20, 5))\n",
    "fig.subplots_adjust(wspace=0.3)\n",
    "\n",
    "ax[0].scatter(train_df['num_compromised'], train_df['num_root']);\n",
    "ax[0].set(xlabel='num_compromised', ylabel='num_root')\n",
    "\n",
    "ax[1].scatter(train_df['srv_serror_rate'], train_df['serror_rate']);\n",
    "ax[1].set(xlabel='srv_serror_rate', ylabel='serror_rate')\n",
    "\n",
    "ax[2].scatter(train_df['srv_rerror_rate'], train_df['rerror_rate']);\n",
    "ax[2].set(xlabel='srv_rerror_rate', ylabel='rerror_rate')\n",
    "\n",
    "plt.show()"
   ]
  },
  {
   "cell_type": "markdown",
   "metadata": {
    "deletable": false,
    "editable": false,
    "tags": []
   },
   "source": [
    "Note that the last two plots, while there are outliers in the plots (values at 1.0), most of the data lies along the diagonal. Just the drawing doesn't show this well, though it is highly correlated.\n",
    "\n",
    "Yes, we can see that there is some correlation between the features we selected here. We can probably assume that there is a causal relationship between them - CyberSecurity specialists wish to comment?\n",
    "\n",
    "So there is certainly some redundancy here. And likely there are more hidden correlations that we don't know about!"
   ]
  },
  {
   "cell_type": "markdown",
   "metadata": {
    "deletable": false,
    "editable": false,
    "tags": []
   },
   "source": [
    "# Task\n",
    "\n",
    "On to this weeks task. We will perform PCA on the data, before training a linear SVM, and explore some more properties of it, and how it affects the machine learning algorithm.\n",
    "\n",
    "1. Run [`PCA`](https://scikit-learn.org/stable/modules/generated/sklearn.decomposition.PCA.html) on the standard scaled data. Initially, set the desired variance to keep to 95% (`n_components=0.95`, all other parameters set to default)\n",
    "2. Train a Support Vector Classification on the PCA reduced data. As with Task 1, use a linear SVM and keep all other parameters as default\n",
    "3. Try 99% and 90%\n",
    "4. Play around with desired variance to see if you can reduce the number of features while maintaining an accuracy close to the original dataset above\n",
    "\n",
    "Discuss the following points, and compare with the previous task in this e-tivity:\n",
    "\n",
    "1. How many new features are there after the PCA?\n",
    "2. Discuss the \"goodness\" of the model, compared with the one without scaling (from Task 1), by comparing the accuracy\n",
    "3. How about if we set the variance to 99%? And how about 99.9%?\n",
    "4. Can you get better accuracy with fewer features using PCA compared to dropping the features from Task 1?\n",
    "\n",
    "Note that the parameter `n_components` of `PCA` can take either a real value between 0 and 1, in which case it will pick the Number of new features after PCA that maintains that level of variance in the samples, or it can take an integer value, in which case it will keep that Number of new features after PCA."
   ]
  },
  {
   "cell_type": "markdown",
   "metadata": {
    "deletable": false,
    "editable": false,
    "tags": []
   },
   "source": [
    "<span style=\"color:red\">Insert your code below</span>."
   ]
  },
  {
   "cell_type": "code",
   "execution_count": 23,
   "metadata": {},
   "outputs": [
    {
     "name": "stdout",
     "output_type": "stream",
     "text": [
      "Running PCA with 0.95 components\n",
      "Accuracy: 0.7279098651525905, Number of features: 19\n"
     ]
    }
   ],
   "source": [
    "from sklearn.decomposition import PCA\n",
    "\n",
    "####################################\n",
    "# Your code here\n",
    "def runWithPCA(n_components):\n",
    "    print(f\"Running PCA with {n_components} components\")\n",
    "    \n",
    "    pca = PCA(n_components=n_components)\n",
    "\n",
    "    pca_train_X = pca.fit_transform(std_train_X)\n",
    "    pca_test_X = pca.transform(std_test_X)\n",
    "\n",
    "    svmClassifier = SVC(kernel='linear')\n",
    "    svmClassifier.fit(pca_train_X, train_Y)\n",
    "\n",
    "    pred = svmClassifier.predict(pca_test_X)\n",
    "    accuracy = accuracy_score(test_Y, pred)\n",
    "\n",
    "    return accuracy, pca.n_components_\n",
    "\n",
    "res95 = runWithPCA(0.95)\n",
    "print(f\"Accuracy: {res95[0]}, Number of features: {res95[1]}\")"
   ]
  },
  {
   "cell_type": "code",
   "execution_count": 18,
   "metadata": {},
   "outputs": [
    {
     "name": "stdout",
     "output_type": "stream",
     "text": [
      "Running PCA with 0.99 components\n",
      "Accuracy: 0.7301721078779276, Number of new features after PCA: 23\n"
     ]
    }
   ],
   "source": [
    "####################################\n",
    "# Your code here\n",
    "\n",
    "# Keep 99% of the variance\n",
    "res99 = runWithPCA(0.99)\n",
    "print(f\"Accuracy: {res99[0]}, Number of new features after PCA: {res99[1]}\")"
   ]
  },
  {
   "cell_type": "code",
   "execution_count": 19,
   "metadata": {},
   "outputs": [
    {
     "name": "stdout",
     "output_type": "stream",
     "text": [
      "Running PCA with 0.999 components\n",
      "Accuracy: 0.7298172462739532, Number of new features after PCA: 28\n"
     ]
    }
   ],
   "source": [
    "####################################\n",
    "# Your code here\n",
    "\n",
    "# Keep 99.9% of the variance\n",
    "res999 = runWithPCA(0.999)\n",
    "print(f\"Accuracy: {res999[0]}, Number of new features after PCA: {res999[1]}\")"
   ]
  },
  {
   "cell_type": "code",
   "execution_count": 20,
   "metadata": {},
   "outputs": [
    {
     "name": "stdout",
     "output_type": "stream",
     "text": [
      "Running PCA with 0.9 components\n"
     ]
    }
   ],
   "source": [
    "####################################\n",
    "# Your code here\n",
    "\n",
    "# Keep 90% of the variance\n",
    "res90 = runWithPCA(0.90)"
   ]
  },
  {
   "cell_type": "code",
   "execution_count": 24,
   "metadata": {},
   "outputs": [
    {
     "name": "stdout",
     "output_type": "stream",
     "text": [
      "Running PCA with 2 components\n",
      "Accuracy: 0.6586231369765791, Number of new features after PCA: 2\n",
      "Running PCA with 3 components\n",
      "Accuracy: 0.6542317246273953, Number of new features after PCA: 3\n",
      "Running PCA with 4 components\n",
      "Accuracy: 0.7171309439318666, Number of new features after PCA: 4\n",
      "Running PCA with 5 components\n",
      "Accuracy: 0.7141146202980837, Number of new features after PCA: 5\n",
      "Running PCA with 6 components\n",
      "Accuracy: 0.718417317246274, Number of new features after PCA: 6\n",
      "Running PCA with 7 components\n",
      "Accuracy: 0.7226312987934705, Number of new features after PCA: 7\n",
      "Running PCA with 8 components\n",
      "Accuracy: 0.7283977998580553, Number of new features after PCA: 8\n",
      "Running PCA with 9 components\n",
      "Accuracy: 0.7176632363378282, Number of new features after PCA: 9\n",
      "Running PCA with 10 components\n",
      "Accuracy: 0.7186834634492548, Number of new features after PCA: 10\n",
      "Running PCA with 11 components\n",
      "Accuracy: 0.718417317246274, Number of new features after PCA: 11\n",
      "Running PCA with 12 components\n",
      "Accuracy: 0.7184616749467707, Number of new features after PCA: 12\n",
      "Running PCA with 13 components\n",
      "Accuracy: 0.7224538679914834, Number of new features after PCA: 13\n",
      "Running PCA with 14 components\n",
      "Accuracy: 0.7227200141944642, Number of new features after PCA: 14\n",
      "Running PCA with 15 components\n",
      "Accuracy: 0.7238289567068843, Number of new features after PCA: 15\n",
      "Running PCA with 16 components\n",
      "Accuracy: 0.7263129879347054, Number of new features after PCA: 16\n",
      "Running PCA with 17 components\n",
      "Accuracy: 0.7261799148332151, Number of new features after PCA: 17\n",
      "Running PCA with 18 components\n",
      "Accuracy: 0.7267565649396736, Number of new features after PCA: 18\n",
      "Running PCA with 19 components\n",
      "Accuracy: 0.7279098651525905, Number of new features after PCA: 19\n",
      "Running PCA with 20 components\n",
      "Accuracy: 0.728708303761533, Number of new features after PCA: 20\n",
      "Running PCA with 21 components\n",
      "Accuracy: 0.7313697657913414, Number of new features after PCA: 21\n",
      "Running PCA with 22 components\n",
      "Accuracy: 0.7293736692689851, Number of new features after PCA: 22\n",
      "Running PCA with 23 components\n",
      "Accuracy: 0.7301721078779276, Number of new features after PCA: 23\n",
      "Running PCA with 24 components\n",
      "Accuracy: 0.7290631653655074, Number of new features after PCA: 24\n",
      "Running PCA with 25 components\n",
      "Accuracy: 0.7294623846699787, Number of new features after PCA: 25\n",
      "Running PCA with 26 components\n",
      "Accuracy: 0.7264904187366927, Number of new features after PCA: 26\n",
      "Running PCA with 27 components\n",
      "Accuracy: 0.7288413768630234, Number of new features after PCA: 27\n",
      "Running PCA with 28 components\n",
      "Accuracy: 0.7298172462739532, Number of new features after PCA: 28\n"
     ]
    }
   ],
   "source": [
    "for i in range(2, 29):\n",
    "    res = runWithPCA(i)\n",
    "    print(f\"Accuracy: {res[0]}, Number of new features after PCA: {res[1]}\")"
   ]
  },
  {
   "cell_type": "markdown",
   "metadata": {},
   "source": [
    "<span style=\"color:red\">Insert your text answers below</span>."
   ]
  },
  {
   "cell_type": "markdown",
   "metadata": {},
   "source": [
    "### PCA 95%\n",
    "\n",
    "1. The number of features are 19\n",
    "1. In term of accuracy, this model is about 2% poorer than the one without scaling.\n",
    "1. Increase the value to 99% reduces the diffence to less than 1% but 99.9% does not give any improvement; it actually makes the model perform worse than 99%\n",
    "1. With n_components = 21, the model gets better performance with fewer features (compare to both dropping features from Task 1 and model with full features)"
   ]
  },
  {
   "cell_type": "markdown",
   "metadata": {},
   "source": [
    "# Task 3: Exploration\n",
    "\n",
    "SMOTE(Synthetic Minority Over-sampling Technique): Generate synthetic samples for the minority class"
   ]
  },
  {
   "cell_type": "markdown",
   "metadata": {},
   "source": [
    "SMOTE generates synthesis samples by selecting a minority instance and find its nearest neighbors of that class thn interpolating between them.\n",
    "The generated data lies on the line connecting the 2 instances. \n",
    "SMOTE creates data points with properties of the minority class but not a copy of existing ones. "
   ]
  },
  {
   "cell_type": "code",
   "execution_count": 6,
   "metadata": {},
   "outputs": [
    {
     "data": {
      "text/plain": [
       "Text(0, 0.5, 'Attack category')"
      ]
     },
     "execution_count": 6,
     "metadata": {},
     "output_type": "execute_result"
    },
    {
     "data": {
      "image/png": "[encoded data removed]",
      "text/plain": [
       "<Figure size 1000x500 with 1 Axes>"
      ]
     },
     "metadata": {},
     "output_type": "display_data"
    }
   ],
   "source": [
    "import numpy as np\n",
    "import pandas as pd\n",
    "from imblearn.over_sampling import SMOTE\n",
    "\n",
    "\n",
    "smote = SMOTE(sampling_strategy='auto')\n",
    "resampled_train_X, resampled_train_Y = smote.fit_resample(std_train_X, train_Y)\n",
    "\n",
    "resampled_train_Y.value_counts().plot(kind='barh', figsize=(10,5), fontsize=15)\n",
    "plt.xlabel(\"Number of samples\", fontsize=20)\n",
    "plt.ylabel(\"Attack category\", fontsize=20)"
   ]
  },
  {
   "cell_type": "markdown",
   "metadata": {},
   "source": [
    "SMOTE has generated data so that number of samples of each class match the highest one (benign - about 14000 samples)"
   ]
  },
  {
   "cell_type": "code",
   "execution_count": null,
   "metadata": {},
   "outputs": [
    {
     "name": "stdout",
     "output_type": "stream",
     "text": [
      "Confusion Matrix:\n",
      "[[8843  487  250  109   22]\n",
      " [1948 5531   56   98    3]\n",
      " [ 323  135 1945   19    1]\n",
      " [2168    6   24  344   32]\n",
      " [ 169    0   22    8    1]]\n",
      "\n",
      "Accuracy: 0.7391767210787793\n"
     ]
    }
   ],
   "source": [
    "from sklearn.svm import SVC\n",
    "from sklearn.metrics import confusion_matrix, accuracy_score\n",
    "\n",
    "\n",
    "svmClassifier = SVC(kernel='linear')\n",
    "svmClassifier.fit(resampled_train_X, resampled_train_Y)\n",
    "\n",
    "pred = svmClassifier.predict(std_test_X)\n",
    "confusionMatrix = confusion_matrix(test_Y, pred)\n",
    "\n",
    "print(\"Confusion Matrix:\")\n",
    "print(confusionMatrix)\n",
    "print()\n",
    "\n",
    "accuracy = accuracy_score(test_Y, pred)\n",
    "print(f\"Accuracy: {accuracy}\")\n"
   ]
  },
  {
   "cell_type": "markdown",
   "metadata": {},
   "source": [
    "Using SMOTE has help the model predicting more precise on the 2nd, 3rd and 4th class. \n",
    "The overall accuracy also increases by roughly 1% compare to model in Task 1"
   ]
  }
 ],
 "metadata": {
  "kernelspec": {
   "display_name": "base",
   "language": "python",
   "name": "python3"
  },
  "language_info": {
   "codemirror_mode": {
    "name": "ipython",
    "version": 3
   },
   "file_extension": ".py",
   "mimetype": "text/x-python",
   "name": "python",
   "nbconvert_exporter": "python",
   "pygments_lexer": "ipython3",
   "version": "3.9.19"
  }
 },
 "nbformat": 4,
 "nbformat_minor": 4
}
